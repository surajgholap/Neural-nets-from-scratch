{
 "cells": [
  {
   "cell_type": "code",
   "execution_count": 1,
   "metadata": {},
   "outputs": [],
   "source": [
    "import struct\n",
    "import numpy as np  \n",
    "import matplotlib.pyplot as plt"
   ]
  },
  {
   "cell_type": "code",
   "execution_count": 2,
   "metadata": {},
   "outputs": [],
   "source": [
    "def read_img_idx(file):\n",
    "    f = open(file,'rb')\n",
    "    data = f.read(16)\n",
    "    magic, no_items, no_rows, no_cols = struct.unpack('>IIII',data)\n",
    "    img_arr = np.zeros((no_items, no_rows, no_cols))\n",
    "    no_bytes = no_items * no_rows * no_cols\n",
    "    img_arr =  np.asarray(struct.unpack('>'+'B'*no_bytes,f.read(no_bytes))).reshape((no_items,no_rows,no_cols))\n",
    "    return img_arr\n"
   ]
  },
  {
   "cell_type": "code",
   "execution_count": 3,
   "metadata": {},
   "outputs": [],
   "source": [
    "def read_lbl_idx(file):\n",
    "    f = open(file, 'rb')\n",
    "    data = f.read(8)\n",
    "    magic, no_items = struct.unpack('>II', data)\n",
    "    lbl_arr = np.zeros(no_items)\n",
    "    no_bytes = no_items\n",
    "    lbl_arr = np.asarray(struct.unpack('>'+'B'*no_bytes, f.read(no_bytes)))\n",
    "    return lbl_arr"
   ]
  },
  {
   "cell_type": "code",
   "execution_count": 4,
   "metadata": {},
   "outputs": [],
   "source": [
    "def sigm_act_func(v):\n",
    "    return 1/(1+np.exp(-v))"
   ]
  },
  {
   "cell_type": "code",
   "execution_count": 5,
   "metadata": {},
   "outputs": [],
   "source": [
    "def deri_act_func(v):\n",
    "    return (sigm_act_func(v) * (1 - sigm_act_func(v)))"
   ]
  },
  {
   "cell_type": "code",
   "execution_count": 6,
   "metadata": {},
   "outputs": [],
   "source": [
    "def convert(data):\n",
    "   new_data = []\n",
    "   for i in range(len(data)):\n",
    "       temp = [0]*10\n",
    "       temp[data[i]] = 1\n",
    "       new_data.append(temp)\n",
    "   return new_data"
   ]
  },
  {
   "cell_type": "code",
   "execution_count": 13,
   "metadata": {},
   "outputs": [],
   "source": [
    "X_train = read_img_idx('train-images-idx3-ubyte')\n",
    "Y_train = read_lbl_idx('train-labels-idx1-ubyte')\n",
    "X_test = read_img_idx('t10k-images-idx3-ubyte')\n",
    "Y_test = read_lbl_idx('t10k-labels-idx1-ubyte')"
   ]
  },
  {
   "cell_type": "code",
   "execution_count": 14,
   "metadata": {},
   "outputs": [],
   "source": [
    "X_train = X_train/255\n",
    "X_test = X_test/255\n",
    "X_train = [x.reshape(1,784) for x in X_train]\n",
    "X_test = [x.reshape(1,784) for x in X_test]\n"
   ]
  },
  {
   "cell_type": "code",
   "execution_count": 15,
   "metadata": {},
   "outputs": [],
   "source": [
    "w1 = np.random.uniform(low=-1, high=1, size=(784,200))\n",
    "b1 = np.random.uniform(low=-1, high=1, size=(1,200))\n",
    "w2 = np.random.uniform(low=-1, high=1, size=(200,10))\n",
    "b2 = np.random.uniform(low=-1, high=1, size=(1,10))\n",
    "learning_rate = 200"
   ]
  },
  {
   "cell_type": "code",
   "execution_count": 16,
   "metadata": {},
   "outputs": [],
   "source": [
    "epoch = 0\n",
    "Y_train  = convert(Y_train)\n",
    "Y_test = convert(Y_test)"
   ]
  },
  {
   "cell_type": "code",
   "execution_count": 17,
   "metadata": {},
   "outputs": [],
   "source": [
    "mse_tr =[]\n",
    "mse_te =[]\n",
    "mis_tr = []\n",
    "mis_te = []"
   ]
  },
  {
   "cell_type": "code",
   "execution_count": 18,
   "metadata": {
    "scrolled": true
   },
   "outputs": [
    {
     "name": "stdout",
     "output_type": "stream",
     "text": [
      "0.26981666666666665\n",
      "MSE 0.8639445661283649\n",
      "0.4518\n",
      "MSET 0.6931139108632975\n",
      "0.5977\n",
      "MSE 0.533683007398344\n",
      "0.7189\n",
      "MSET 0.4010855502264266\n",
      "0.7527333333333334\n",
      "MSE 0.3524699409619503\n",
      "0.7795\n",
      "MSET 0.3103254510180841\n",
      "0.78515\n",
      "MSE 0.30231269724647836\n",
      "0.7983\n",
      "MSET 0.28261612947650444\n",
      "0.8008333333333333\n",
      "MSE 0.2787171887992581\n",
      "0.8096\n",
      "MSET 0.2658409526742765\n",
      "0.81105\n",
      "MSE 0.2627098884247116\n",
      "0.8181\n",
      "MSET 0.25363911328759964\n",
      "0.8182666666666667\n",
      "MSE 0.2509587343418651\n",
      "0.8235\n",
      "MSET 0.24457854890089176\n",
      "0.8238666666666666\n",
      "MSE 0.24173991320573754\n",
      "0.828\n",
      "MSET 0.2373468110513988\n",
      "0.8281333333333334\n",
      "MSE 0.2341369515622205\n",
      "0.831\n",
      "MSET 0.23146413571733182\n",
      "0.8318\n",
      "MSE 0.22773712491217604\n",
      "0.834\n",
      "MSET 0.2265307090195136\n",
      "0.8348\n",
      "MSE 0.2221893875660583\n",
      "0.8366\n",
      "MSET 0.2222562446641733\n",
      "0.8376833333333333\n",
      "MSE 0.21727782349673264\n",
      "0.8392\n",
      "MSET 0.21846840104586723\n",
      "0.84045\n",
      "MSE 0.21286756259637027\n",
      "0.8421\n",
      "MSET 0.21506517220886434\n",
      "0.8429833333333333\n",
      "MSE 0.20885054940780903\n",
      "0.8434\n",
      "MSET 0.21197698207139543\n",
      "0.8547333333333333\n",
      "MSE 0.20381396872116092\n",
      "0.909\n",
      "MSET 0.18270048884410023\n",
      "0.93\n",
      "MSE 0.1320221944955245\n",
      "0.9332\n",
      "MSET 0.12539890678149274\n",
      "0.9379666666666666\n",
      "MSE 0.114935848964801\n",
      "0.9371\n",
      "MSET 0.11777681018501716\n",
      "0.9413\n",
      "MSE 0.10875703611412339\n",
      "0.9396\n",
      "MSET 0.11355968757775381\n",
      "0.9435333333333333\n",
      "MSE 0.10443931187886767\n",
      "0.9411\n",
      "MSET 0.11044861769822568\n",
      "0.9455833333333333\n",
      "MSE 0.10094157941646431\n",
      "0.9423\n",
      "MSET 0.10788548541122252\n",
      "0.9472333333333334\n",
      "MSE 0.09792927234238073\n",
      "0.943\n",
      "MSET 0.10565835285265059\n",
      "0.9485\n",
      "MSE 0.09524366411167713\n",
      "0.9441\n",
      "MSET 0.10366567926317961\n",
      "0.9499333333333333\n",
      "MSE 0.09280009541837074\n",
      "0.9449\n",
      "MSET 0.10184837854791486\n",
      "0.9512\n",
      "MSE 0.09054746571649644\n",
      "0.9456\n",
      "MSET 0.10016799965093164\n",
      "0.9522833333333334\n",
      "MSE 0.08845211029866433\n",
      "0.9463\n",
      "MSET 0.09859892588754\n",
      "0.95335\n",
      "MSE 0.08649014919095234\n",
      "0.9472\n",
      "MSET 0.09712387615109329\n",
      "0.9545833333333333\n",
      "MSE 0.08464361533047338\n",
      "0.9484\n",
      "MSET 0.09573073036423373\n",
      "0.9556166666666667\n",
      "MSE 0.08289859149735675\n",
      "0.9492\n",
      "MSET 0.09441057094316485\n",
      "0.9565666666666667\n",
      "MSE 0.08124425519903111\n",
      "0.9503\n",
      "MSET 0.09315663289843468\n"
     ]
    }
   ],
   "source": [
    "while True:\n",
    "    y = []\n",
    "    y2 = []\n",
    "    tr_count = 0\n",
    "    te_count = 0\n",
    "    for i in range(len(X_train)):\n",
    "        v1 = np.matmul(X_train[i],w1) + b1\n",
    "        y1 = sigm_act_func(v1)\n",
    "        v2 = np.matmul(y1,w2) + b2\n",
    "        y.append(sigm_act_func(v2))\n",
    "        out = [0]*10\n",
    "        ind = y[i].argmax(axis = 1)[0]\n",
    "        out[ind] =1\n",
    "       \n",
    "        err = (np.asarray(Y_train[i])-np.asarray(out)) \n",
    "        if np.linalg.norm(err) == 0:\n",
    "            tr_count += 1\n",
    "        \n",
    "        diff = (((-2*learning_rate*(Y_train[i]-y[i]))/len(X_train))*deri_act_func(v2))\n",
    "        grad_w2 = y1.T.dot(diff)\n",
    "        diff1 = diff.dot(w2.T) * deri_act_func(v1)\n",
    "        grad_w1 = X_train[i].T.dot(diff1)\n",
    "\n",
    "\n",
    "        grad_b1 = diff.dot(w2.T)\n",
    "        grad_b2 = np.full((1, 10), diff)\n",
    "\n",
    "        w1 = np.subtract(w1, np.asarray(grad_w1))\n",
    "        w2 = np.subtract(w2, np.asarray(grad_w2))\n",
    "        b1 = np.subtract(b1, np.asarray(grad_b1))\n",
    "        b2 = np.subtract(b2, np.asarray(grad_b2))\n",
    "    tr_acc = tr_count/len(X_train)\n",
    "    print(tr_acc)\n",
    "    t1 = len(X_train) - tr_count\n",
    "    mis_tr.append(t1)\n",
    "    min_serror = 0\n",
    "    for i in range(len(X_train)):\n",
    "        min_serror+= np.linalg.norm(y[i]-Y_train[i])**2\n",
    "    min_serror= min_serror/len(X_train)\n",
    "    mse_tr.append(min_serror)\n",
    "    print(\"MSE\", min_serror)\n",
    "    for i in range(len(X_test)):\n",
    "        v1 = np.matmul(X_test[i],w1) + b1\n",
    "        y1 = sigm_act_func(v1)\n",
    "        v2 = np.matmul(y1,w2) + b2\n",
    "        y2.append(sigm_act_func(v2))\n",
    "        out = [0]*10\n",
    "        ind = y2[i].argmax(axis = 1)[0]\n",
    "        out[ind] = 1\n",
    "        temp = (np.asarray(Y_test[i])-np.asarray(out))\n",
    "       \n",
    "        if np.linalg.norm(temp) == 0:\n",
    "            te_count += 1\n",
    "    te_acc = te_count/len(X_test)\n",
    "    print(te_acc)\n",
    "    t2 = len(X_test) - te_count\n",
    "    mis_te.append(t2)\n",
    "    min_serrorT = 0\n",
    "    for i in range(len(X_test)):\n",
    "        min_serrorT += np.linalg.norm(y2[i]-Y_test[i])**2\n",
    "    min_serrorT = min_serrorT/len(X_test)\n",
    "    mse_te.append(min_serrorT)\n",
    "    print(\"MSET\", min_serrorT)\n",
    "    if te_acc > 0.95:\n",
    "        break\n",
    "    epoch += 1\n",
    "        "
   ]
  },
  {
   "cell_type": "code",
   "execution_count": 19,
   "metadata": {},
   "outputs": [
    {
     "data": {
      "text/plain": [
       "28"
      ]
     },
     "execution_count": 19,
     "metadata": {},
     "output_type": "execute_result"
    }
   ],
   "source": [
    "epoch"
   ]
  },
  {
   "cell_type": "markdown",
   "metadata": {},
   "source": [
    "Accuracy of 95.03 % on testing data acheived."
   ]
  },
  {
   "cell_type": "code",
   "execution_count": 20,
   "metadata": {},
   "outputs": [
    {
     "data": {
      "image/png": "[encoded data removed]",
      "text/plain": [
       "<Figure size 720x720 with 1 Axes>"
      ]
     },
     "metadata": {
      "needs_background": "light"
     },
     "output_type": "display_data"
    }
   ],
   "source": [
    "plt.figure(figsize=(10,10))\n",
    "plt.ylabel('Mean Square Error for training and testing')\n",
    "plt.xlabel('Number of Epochs')\n",
    "plt.scatter(range(len(mse_tr)), mse_tr, c = 'blue', label = 'Mean Square Error for training')\n",
    "plt.scatter(range(len(mse_te)), mse_te, c = 'red', label = 'Mean Square Error for testing')\n",
    "\n",
    "plt.legend()\n",
    "plt.show()"
   ]
  },
  {
   "cell_type": "code",
   "execution_count": 21,
   "metadata": {},
   "outputs": [
    {
     "data": {
      "image/png": "[encoded data removed]",
      "text/plain": [
       "<Figure size 720x720 with 1 Axes>"
      ]
     },
     "metadata": {
      "needs_background": "light"
     },
     "output_type": "display_data"
    }
   ],
   "source": [
    "plt.figure(figsize=(10,10))\n",
    "plt.ylabel('Misclassification')\n",
    "plt.xlabel('Number of Epochs')\n",
    "plt.scatter(range(len(mis_tr)), mis_tr, c = 'blue', label = 'Misclassifications for training')\n",
    "plt.scatter(range(len(mis_te)), mis_te, c = 'red', label = 'Misclassification for testing')\n",
    "\n",
    "plt.legend()\n",
    "plt.show()"
   ]
  }
 ],
 "metadata": {
  "kernelspec": {
   "display_name": "Python 3",
   "language": "python",
   "name": "python3"
  },
  "language_info": {
   "codemirror_mode": {
    "name": "ipython",
    "version": 3
   },
   "file_extension": ".py",
   "mimetype": "text/x-python",
   "name": "python",
   "nbconvert_exporter": "python",
   "pygments_lexer": "ipython3",
   "version": "3.6.5"
  }
 },
 "nbformat": 4,
 "nbformat_minor": 2
}
