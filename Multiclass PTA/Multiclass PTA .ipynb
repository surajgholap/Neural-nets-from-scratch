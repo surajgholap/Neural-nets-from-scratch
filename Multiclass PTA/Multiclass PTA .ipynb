{
 "cells": [
  {
   "cell_type": "markdown",
   "metadata": {},
   "source": [
    "# Multicategory  PTA  for  digit  classification. Multicategory PTA is a simple extension of PTA for multiple output classes"
   ]
  },
  {
   "cell_type": "code",
   "execution_count": 1,
   "metadata": {},
   "outputs": [],
   "source": [
    "import struct\n",
    "import numpy as np  \n",
    "import matplotlib.pyplot as plt"
   ]
  },
  {
   "cell_type": "code",
   "execution_count": 2,
   "metadata": {},
   "outputs": [],
   "source": [
    "def step_function(val):\n",
    "    for i in range(len(val)):\n",
    "        if val[i] >= 0:\n",
    "            val[i] = 1\n",
    "        else:\n",
    "            val[i] = 0\n",
    "    return val"
   ]
  },
  {
   "cell_type": "markdown",
   "metadata": {},
   "source": [
    "Read the contents of the webpage\n",
    "http://yann.lecun.com/exdb/mnist/\n",
    "There  are  4  files  listed  in  the  beginning  of  the  page  as\n",
    "training set images,training setlabels,test set images, and test set labels, download them. Each image is 28×28, so that we will have a neural network 28×28 = 784 nodes in the input layer,\n",
    "and 10 nodes in the output layer.  We will ignore the biases.  We wish to find 784×10 = 7840\n",
    "weights  such  that  the  network  outputs  [1 0 0···0]T if  the  input  image  corresponds  to  a  0,\n",
    "[0 1 0···0]T if the input image corresponds to a 1, and so on.\n",
    "I have used the first n(n≤60000) elements of training set images and training set labels\n",
    "to  train  our  network  via  the  multicategory  perceptron  training  algorithm.   Since  the  patterns\n",
    "are  not  linearly  separable,  the  misclassification  errors  may  not  converge  to  0.  \n",
    "We will need to stop the iterations (epochs) when the ratio of misclassified\n",
    "input patterns falls below some threshold."
   ]
  },
  {
   "cell_type": "code",
   "execution_count": 3,
   "metadata": {},
   "outputs": [],
   "source": [
    "def read_img_idx(file):\n",
    "    f = open(file,'rb')\n",
    "    data = f.read(16)\n",
    "    magic, no_items, no_rows, no_cols = struct.unpack('>IIII',data)\n",
    "    img_arr = np.zeros((no_items, no_rows, no_cols))\n",
    "    no_bytes = no_items * no_rows * no_cols\n",
    "    img_arr =  np.asarray(struct.unpack('>'+'B'*no_bytes,f.read(no_bytes))).reshape((no_items,no_rows,no_cols))\n",
    "    return img_arr"
   ]
  },
  {
   "cell_type": "code",
   "execution_count": 4,
   "metadata": {},
   "outputs": [],
   "source": [
    "def read_lbl_idx(file):\n",
    "    f = open(file, 'rb')\n",
    "    data = f.read(8)\n",
    "    magic, no_items = struct.unpack('>II', data)\n",
    "    lbl_arr = np.zeros(no_items)\n",
    "    no_bytes = no_items\n",
    "    lbl_arr = np.asarray(struct.unpack('>'+'B'*no_bytes, f.read(no_bytes)))\n",
    "    return lbl_arr"
   ]
  },
  {
   "cell_type": "code",
   "execution_count": 5,
   "metadata": {},
   "outputs": [],
   "source": [
    "def misclass_error(w,err,epo):\n",
    "    for i in range(n):\n",
    "        v = np.matmul(w,X_train[i])\n",
    "        actual_v = np.argmax(v)\n",
    "        if actual_v != Y_train[i]:\n",
    "            err[epo] += 1\n",
    "    return err[epo]\n",
    "            "
   ]
  },
  {
   "cell_type": "code",
   "execution_count": 6,
   "metadata": {},
   "outputs": [],
   "source": [
    "def update_weights(wei):\n",
    "    for i in range(n):\n",
    "        d_out = np.zeros((10,1))\n",
    "        d_out[Y_train[i]] = 1\n",
    "        a_out = step_function(np.matmul(wei,X_train[i]))\n",
    "        change = learning_rate * (d_out - a_out) * X_train[i].T\n",
    "        wei += change\n",
    "    return wei"
   ]
  },
  {
   "cell_type": "code",
   "execution_count": 21,
   "metadata": {},
   "outputs": [],
   "source": [
    "def handler(w):\n",
    "    epoch = 0\n",
    "    error = []\n",
    "    while True:\n",
    "        error.append(0)\n",
    "        error[epoch] = misclass_error(w,error,epoch)\n",
    "        epoch += 1\n",
    "        w = update_weights(w)\n",
    "        if error[epoch-1]/n <= threshold:\n",
    "            return error"
   ]
  },
  {
   "cell_type": "code",
   "execution_count": 26,
   "metadata": {},
   "outputs": [],
   "source": [
    "def handler_nc(w):\n",
    "    epoch = 0\n",
    "    error = []\n",
    "    while epoch < 25:\n",
    "        error.append(0)\n",
    "        error[epoch] = misclass_error(w,error,epoch)\n",
    "        epoch += 1\n",
    "        w = update_weights(w)\n",
    "    return error"
   ]
  },
  {
   "cell_type": "code",
   "execution_count": 8,
   "metadata": {},
   "outputs": [],
   "source": [
    "def plot(err):\n",
    "    plt.figure(figsize=(10,10))\n",
    "    plt.plot(range(len(err)), err, c = 'red')\n",
    "    plt.ylabel('Number of Misclassifications')\n",
    "    plt.xlabel('Number of Epochs')\n",
    "    plt.title('Errors vs Epochs')\n",
    "    plt.show()"
   ]
  },
  {
   "cell_type": "code",
   "execution_count": 9,
   "metadata": {
    "scrolled": true
   },
   "outputs": [],
   "source": [
    "X_train = read_img_idx('train-images.idx3-ubyte')\n",
    "Y_train = read_lbl_idx('train-labels.idx1-ubyte')\n",
    "X_test = read_img_idx('t10k-images.idx3-ubyte')\n",
    "Y_test = read_lbl_idx('t10k-labels.idx1-ubyte')"
   ]
  },
  {
   "cell_type": "code",
   "execution_count": 10,
   "metadata": {},
   "outputs": [
    {
     "data": {
      "text/plain": [
       "((60000, 28, 28), (60000,))"
      ]
     },
     "execution_count": 10,
     "metadata": {},
     "output_type": "execute_result"
    }
   ],
   "source": [
    "X_train.shape, Y_train.shape"
   ]
  },
  {
   "cell_type": "code",
   "execution_count": 11,
   "metadata": {},
   "outputs": [
    {
     "data": {
      "text/plain": [
       "((60000,), (10000,))"
      ]
     },
     "execution_count": 11,
     "metadata": {},
     "output_type": "execute_result"
    }
   ],
   "source": [
    "Y_train.shape, Y_test.shape"
   ]
  },
  {
   "cell_type": "code",
   "execution_count": 12,
   "metadata": {},
   "outputs": [],
   "source": [
    "X_train = [x.reshape(784,1) for x in X_train]"
   ]
  },
  {
   "cell_type": "code",
   "execution_count": 13,
   "metadata": {},
   "outputs": [],
   "source": [
    "X_test = [x.reshape(784,1) for x in X_test]"
   ]
  },
  {
   "cell_type": "markdown",
   "metadata": {},
   "source": [
    " We now have some (hopefully) good weights that we have obtained via the multicategory PTA\n",
    "above.  We now test the corresponding network on the test set images and test set labels.\n"
   ]
  },
  {
   "cell_type": "code",
   "execution_count": 14,
   "metadata": {},
   "outputs": [],
   "source": [
    "def misclass_error_test(w,err,epo):\n",
    "    for i in range(10000):\n",
    "        v = np.matmul(w,X_test[i])\n",
    "        actual_v = np.argmax(v)\n",
    "        if actual_v != Y_test[i]:\n",
    "            err[epo] += 1\n",
    "    return err"
   ]
  },
  {
   "cell_type": "markdown",
   "metadata": {},
   "source": [
    "For n = 50, η = 1, and some very small epsillon = 0."
   ]
  },
  {
   "cell_type": "code",
   "execution_count": 101,
   "metadata": {},
   "outputs": [
    {
     "name": "stdout",
     "output_type": "stream",
     "text": [
      "[42]\n",
      "[42, 7]\n",
      "[42, 7, 2]\n",
      "[42, 7, 2, 1]\n",
      "[42, 7, 2, 1, 0]\n"
     ]
    }
   ],
   "source": [
    "# Training part\n",
    "learning_rate = 1\n",
    "threshold = 0\n",
    "n = 50\n",
    "weights = np.random.uniform(-1, 1, (10,784))\n",
    "e = handler(weights)"
   ]
  },
  {
   "cell_type": "markdown",
   "metadata": {},
   "source": [
    "For the training part, the algorithm converges and hence the misclassifications for the training are 0 %"
   ]
  },
  {
   "cell_type": "code",
   "execution_count": 102,
   "metadata": {
    "scrolled": true
   },
   "outputs": [
    {
     "data": {
      "image/png": "[encoded data removed]",
      "text/plain": [
       "<Figure size 720x720 with 1 Axes>"
      ]
     },
     "metadata": {},
     "output_type": "display_data"
    }
   ],
   "source": [
    "plot(e)"
   ]
  },
  {
   "cell_type": "code",
   "execution_count": 103,
   "metadata": {},
   "outputs": [
    {
     "data": {
      "text/plain": [
       "0.4538"
      ]
     },
     "execution_count": 103,
     "metadata": {},
     "output_type": "execute_result"
    }
   ],
   "source": [
    "# Testing part\n",
    "error_t = [] \n",
    "epo_t = 0\n",
    "error_t.append(0)\n",
    "e = misclass_error_test(weights, error_t, epo_t)\n",
    "e[0]/10000"
   ]
  },
  {
   "cell_type": "markdown",
   "metadata": {},
   "source": [
    "We get an error percentage of 45.38% for n = 50, learning rate = 1 and threshold = 0 on the test data of 10000 samples.\n",
    "The error percentage for training is 0% as the algo converged completely for n = 50 samples in the training set and for the testing the error percent is 45.38% which is bigger as the weights are arranged for the algo is only based on the 50 samples of the training set."
   ]
  },
  {
   "cell_type": "markdown",
   "metadata": {},
   "source": [
    "For n =  1000, η =  1,  and  some  very  small threshold =  0."
   ]
  },
  {
   "cell_type": "code",
   "execution_count": 121,
   "metadata": {
    "scrolled": true
   },
   "outputs": [],
   "source": [
    "# Training part\n",
    "learning_rate = 1\n",
    "threshold = 0\n",
    "n = 1000\n",
    "weights = np.random.uniform(-1, 1, (10,784))\n",
    "e = handler(weights)"
   ]
  },
  {
   "cell_type": "code",
   "execution_count": 122,
   "metadata": {
    "scrolled": true
   },
   "outputs": [
    {
     "data": {
      "image/png": "[encoded data removed]",
      "text/plain": [
       "<Figure size 720x720 with 1 Axes>"
      ]
     },
     "metadata": {},
     "output_type": "display_data"
    }
   ],
   "source": [
    "plot(e)"
   ]
  },
  {
   "cell_type": "markdown",
   "metadata": {},
   "source": [
    "Again the algorithm converges to 0 and hence the misclassifications for the training are 0 % for 1000 samples. "
   ]
  },
  {
   "cell_type": "code",
   "execution_count": 123,
   "metadata": {},
   "outputs": [
    {
     "data": {
      "text/plain": [
       "0.1772"
      ]
     },
     "execution_count": 123,
     "metadata": {},
     "output_type": "execute_result"
    }
   ],
   "source": [
    "# Testing part\n",
    "error_t = [] \n",
    "epo_t = 0\n",
    "error_t.append(0)\n",
    "e = misclass_error_test(weights, error_t, epo_t)\n",
    "e[0]/10000"
   ]
  },
  {
   "cell_type": "markdown",
   "metadata": {},
   "source": [
    "Error percentage for the testing data is 17.72 percent for n = 1000 which is better than previous step(for n = 50) as \n",
    "the sample set for the training increased and the model learnt well from more samples. So the model performs better as the training data increases."
   ]
  },
  {
   "cell_type": "markdown",
   "metadata": {},
   "source": [
    "For n =  60000  and threshold =  0.   "
   ]
  },
  {
   "cell_type": "code",
   "execution_count": 27,
   "metadata": {},
   "outputs": [],
   "source": [
    "# Training part\n",
    "learning_rate = 1\n",
    "threshold = 0\n",
    "n = 60000\n",
    "weights = np.random.uniform(-1, 1, (10,784))\n",
    "e = handler_nc(weights)"
   ]
  },
  {
   "cell_type": "code",
   "execution_count": 28,
   "metadata": {},
   "outputs": [
    {
     "data": {
      "image/png": "[encoded data removed]",
      "text/plain": [
       "<Figure size 720x720 with 1 Axes>"
      ]
     },
     "metadata": {},
     "output_type": "display_data"
    }
   ],
   "source": [
    "plot(e)"
   ]
  },
  {
   "cell_type": "markdown",
   "metadata": {},
   "source": [
    "For n = 60000 and threshold = 0, the algo does not converge at 0. For non converging algo, epoch\n",
    "is 25. And the algo converges to around 7000."
   ]
  },
  {
   "cell_type": "code",
   "execution_count": 29,
   "metadata": {},
   "outputs": [
    {
     "data": {
      "text/plain": [
       "0.137"
      ]
     },
     "execution_count": 29,
     "metadata": {},
     "output_type": "execute_result"
    }
   ],
   "source": [
    "# Testing part\n",
    "error_t = [] \n",
    "epo_t = 0\n",
    "error_t.append(0)\n",
    "e = misclass_error_test(weights, error_t, epo_t)\n",
    "e[0]/10000"
   ]
  },
  {
   "cell_type": "markdown",
   "metadata": {},
   "source": [
    "On the test data, we get error percentage around 13.7 % for the non converging algo."
   ]
  },
  {
   "cell_type": "markdown",
   "metadata": {},
   "source": [
    "For learning rate = 1, threshold = 0.15 and n = 60000."
   ]
  },
  {
   "cell_type": "code",
   "execution_count": 30,
   "metadata": {},
   "outputs": [
    {
     "name": "stdout",
     "output_type": "stream",
     "text": [
      "[53726, 10040, 8474]\n"
     ]
    }
   ],
   "source": [
    "learning_rate = 1\n",
    "threshold = 0.15\n",
    "n = 60000\n",
    "weights = np.random.uniform(-1, 1, (10,784))\n",
    "e = handler(weights)"
   ]
  },
  {
   "cell_type": "code",
   "execution_count": 31,
   "metadata": {},
   "outputs": [
    {
     "data": {
      "image/png": "[encoded data removed]",
      "text/plain": [
       "<Figure size 720x720 with 1 Axes>"
      ]
     },
     "metadata": {},
     "output_type": "display_data"
    }
   ],
   "source": [
    "plot(e)"
   ]
  },
  {
   "cell_type": "markdown",
   "metadata": {},
   "source": [
    "Error percentage is 14.12% for the training part"
   ]
  },
  {
   "cell_type": "code",
   "execution_count": 32,
   "metadata": {},
   "outputs": [
    {
     "data": {
      "text/plain": [
       "0.1703"
      ]
     },
     "execution_count": 32,
     "metadata": {},
     "output_type": "execute_result"
    }
   ],
   "source": [
    "error_t = [] \n",
    "epo_t = 0\n",
    "error_t.append(0)\n",
    "e = misclass_error_test(weights, error_t, epo_t)\n",
    "e[0]/10000"
   ]
  },
  {
   "cell_type": "markdown",
   "metadata": {},
   "source": [
    "Error percentage for the testing part is 17.03%"
   ]
  },
  {
   "cell_type": "code",
   "execution_count": 33,
   "metadata": {},
   "outputs": [
    {
     "name": "stdout",
     "output_type": "stream",
     "text": [
      "[53144, 9995, 9947, 9539, 9593, 10425, 9422, 9933, 8634]\n"
     ]
    }
   ],
   "source": [
    "learning_rate = 1\n",
    "threshold = 0.15\n",
    "n = 60000\n",
    "weights = np.random.uniform(-1, 1, (10,784))\n",
    "e = handler(weights)"
   ]
  },
  {
   "cell_type": "code",
   "execution_count": 34,
   "metadata": {},
   "outputs": [
    {
     "data": {
      "image/png": "[encoded data removed]",
      "text/plain": [
       "<Figure size 720x720 with 1 Axes>"
      ]
     },
     "metadata": {},
     "output_type": "display_data"
    }
   ],
   "source": [
    "plot(e)"
   ]
  },
  {
   "cell_type": "markdown",
   "metadata": {},
   "source": [
    "Error percentage is 14.39% for the training part"
   ]
  },
  {
   "cell_type": "code",
   "execution_count": 35,
   "metadata": {},
   "outputs": [
    {
     "data": {
      "text/plain": [
       "0.1525"
      ]
     },
     "execution_count": 35,
     "metadata": {},
     "output_type": "execute_result"
    }
   ],
   "source": [
    "error_t = [] \n",
    "epo_t = 0\n",
    "error_t.append(0)\n",
    "e = misclass_error_test(weights, error_t, epo_t)\n",
    "e[0]/10000"
   ]
  },
  {
   "cell_type": "markdown",
   "metadata": {},
   "source": [
    "Error percentage for the testing part is 15.25%"
   ]
  },
  {
   "cell_type": "code",
   "execution_count": 38,
   "metadata": {},
   "outputs": [
    {
     "name": "stdout",
     "output_type": "stream",
     "text": [
      "[55694, 9107, 8664]\n"
     ]
    }
   ],
   "source": [
    "learning_rate = 1\n",
    "threshold = 0.15\n",
    "n = 60000\n",
    "weights = np.random.uniform(-1, 1, (10,784))\n",
    "e = handler(weights)"
   ]
  },
  {
   "cell_type": "code",
   "execution_count": 39,
   "metadata": {},
   "outputs": [
    {
     "data": {
      "image/png": "[encoded data removed]",
      "text/plain": [
       "<Figure size 720x720 with 1 Axes>"
      ]
     },
     "metadata": {},
     "output_type": "display_data"
    }
   ],
   "source": [
    "plot(e)"
   ]
  },
  {
   "cell_type": "markdown",
   "metadata": {},
   "source": [
    "Error percentage for the training part is 14.41%"
   ]
  },
  {
   "cell_type": "code",
   "execution_count": 40,
   "metadata": {},
   "outputs": [
    {
     "data": {
      "text/plain": [
       "0.1583"
      ]
     },
     "execution_count": 40,
     "metadata": {},
     "output_type": "execute_result"
    }
   ],
   "source": [
    "error_t = [] \n",
    "epo_t = 0\n",
    "error_t.append(0)\n",
    "e = misclass_error_test(weights, error_t, epo_t)\n",
    "e[0]/10000"
   ]
  },
  {
   "cell_type": "markdown",
   "metadata": {},
   "source": [
    "Error percentage for the testing part is 15.83%.\n",
    "\n",
    "From the last three graphs we can see that the error percents for the testing data is around 15%"
   ]
  }
 ],
 "metadata": {
  "kernelspec": {
   "display_name": "Python 3",
   "language": "python",
   "name": "python3"
  },
  "language_info": {
   "codemirror_mode": {
    "name": "ipython",
    "version": 3
   },
   "file_extension": ".py",
   "mimetype": "text/x-python",
   "name": "python",
   "nbconvert_exporter": "python",
   "pygments_lexer": "ipython3",
   "version": "3.6.5"
  }
 },
 "nbformat": 4,
 "nbformat_minor": 2
}
